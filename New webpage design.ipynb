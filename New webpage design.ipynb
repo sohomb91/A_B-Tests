{
 "cells": [
  {
   "cell_type": "markdown",
   "id": "aa13cc52",
   "metadata": {},
   "source": [
    "### Here we will simulate the A/B tests over a new design for the webpage of an online EdTech company.\n",
    "\n",
    "#### ***This notebook will deal with the experiment of the Click-through rate for the \"home page' of the website.***\n",
    "\n",
    "**The data contains the `timestamp` of the page visit, `user id` of the users hitting the homepage, the `group` to which the user belongs to (the 'experiment group' (those in charge of testing the \"new webpage design\") and the 'control group' (those in charge of testing the \"old webpage design\")), and the `action` ('view' if no clicks are made and 'click' if clicks are made on the home page).**"
   ]
  },
  {
   "cell_type": "code",
   "execution_count": 3,
   "id": "dda30561",
   "metadata": {},
   "outputs": [
    {
     "data": {
      "text/html": [
       "<div>\n",
       "<style scoped>\n",
       "    .dataframe tbody tr th:only-of-type {\n",
       "        vertical-align: middle;\n",
       "    }\n",
       "\n",
       "    .dataframe tbody tr th {\n",
       "        vertical-align: top;\n",
       "    }\n",
       "\n",
       "    .dataframe thead th {\n",
       "        text-align: right;\n",
       "    }\n",
       "</style>\n",
       "<table border=\"1\" class=\"dataframe\">\n",
       "  <thead>\n",
       "    <tr style=\"text-align: right;\">\n",
       "      <th></th>\n",
       "      <th>timestamp</th>\n",
       "      <th>id</th>\n",
       "      <th>group</th>\n",
       "      <th>action</th>\n",
       "    </tr>\n",
       "  </thead>\n",
       "  <tbody>\n",
       "    <tr>\n",
       "      <th>0</th>\n",
       "      <td>2016-09-24 17:42:27.839496</td>\n",
       "      <td>804196</td>\n",
       "      <td>experiment</td>\n",
       "      <td>view</td>\n",
       "    </tr>\n",
       "    <tr>\n",
       "      <th>1</th>\n",
       "      <td>2016-09-24 19:19:03.542569</td>\n",
       "      <td>434745</td>\n",
       "      <td>experiment</td>\n",
       "      <td>view</td>\n",
       "    </tr>\n",
       "    <tr>\n",
       "      <th>2</th>\n",
       "      <td>2016-09-24 19:36:00.944135</td>\n",
       "      <td>507599</td>\n",
       "      <td>experiment</td>\n",
       "      <td>view</td>\n",
       "    </tr>\n",
       "    <tr>\n",
       "      <th>3</th>\n",
       "      <td>2016-09-24 19:59:02.646620</td>\n",
       "      <td>671993</td>\n",
       "      <td>control</td>\n",
       "      <td>view</td>\n",
       "    </tr>\n",
       "    <tr>\n",
       "      <th>4</th>\n",
       "      <td>2016-09-24 20:26:14.466886</td>\n",
       "      <td>536734</td>\n",
       "      <td>experiment</td>\n",
       "      <td>view</td>\n",
       "    </tr>\n",
       "  </tbody>\n",
       "</table>\n",
       "</div>"
      ],
      "text/plain": [
       "                    timestamp      id       group action\n",
       "0  2016-09-24 17:42:27.839496  804196  experiment   view\n",
       "1  2016-09-24 19:19:03.542569  434745  experiment   view\n",
       "2  2016-09-24 19:36:00.944135  507599  experiment   view\n",
       "3  2016-09-24 19:59:02.646620  671993     control   view\n",
       "4  2016-09-24 20:26:14.466886  536734  experiment   view"
      ]
     },
     "execution_count": 3,
     "metadata": {},
     "output_type": "execute_result"
    }
   ],
   "source": [
    "# Read the csv data\n",
    "\n",
    "import numpy as np\n",
    "import pandas as pd\n",
    "import matplotlib.pyplot as plt\n",
    "\n",
    "%matplotlib inline\n",
    "\n",
    "home_act = pd.read_csv('./data/homepage_actions.csv')\n",
    "\n",
    "home_act.head()"
   ]
  },
  {
   "cell_type": "markdown",
   "id": "a143fbb8",
   "metadata": {},
   "source": [
    "#### 1. Match the following characteristics of this dataset: \n",
    "- total number of actions\n",
    "- number of unique users\n",
    "- sizes of the control and experiment groups (i.e., the number of unique users in each group)"
   ]
  },
  {
   "cell_type": "code",
   "execution_count": 9,
   "id": "8eeb0654",
   "metadata": {},
   "outputs": [
    {
     "data": {
      "text/plain": [
       "8188"
      ]
     },
     "execution_count": 9,
     "metadata": {},
     "output_type": "execute_result"
    }
   ],
   "source": [
    "# total number of actions\n",
    "\n",
    "home_act.action.count()"
   ]
  },
  {
   "cell_type": "code",
   "execution_count": 7,
   "id": "2c8447d2",
   "metadata": {},
   "outputs": [
    {
     "data": {
      "text/plain": [
       "6328"
      ]
     },
     "execution_count": 7,
     "metadata": {},
     "output_type": "execute_result"
    }
   ],
   "source": [
    "# number of unique users\n",
    "\n",
    "len(home_act.id.unique())"
   ]
  },
  {
   "cell_type": "code",
   "execution_count": 13,
   "id": "0df43961",
   "metadata": {},
   "outputs": [
    {
     "data": {
      "text/html": [
       "<div>\n",
       "<style scoped>\n",
       "    .dataframe tbody tr th:only-of-type {\n",
       "        vertical-align: middle;\n",
       "    }\n",
       "\n",
       "    .dataframe tbody tr th {\n",
       "        vertical-align: top;\n",
       "    }\n",
       "\n",
       "    .dataframe thead th {\n",
       "        text-align: right;\n",
       "    }\n",
       "</style>\n",
       "<table border=\"1\" class=\"dataframe\">\n",
       "  <thead>\n",
       "    <tr style=\"text-align: right;\">\n",
       "      <th></th>\n",
       "      <th>timestamp</th>\n",
       "      <th>id</th>\n",
       "      <th>action</th>\n",
       "    </tr>\n",
       "    <tr>\n",
       "      <th>group</th>\n",
       "      <th></th>\n",
       "      <th></th>\n",
       "      <th></th>\n",
       "    </tr>\n",
       "  </thead>\n",
       "  <tbody>\n",
       "    <tr>\n",
       "      <th>control</th>\n",
       "      <td>4264</td>\n",
       "      <td>3332</td>\n",
       "      <td>2</td>\n",
       "    </tr>\n",
       "    <tr>\n",
       "      <th>experiment</th>\n",
       "      <td>3924</td>\n",
       "      <td>2996</td>\n",
       "      <td>2</td>\n",
       "    </tr>\n",
       "  </tbody>\n",
       "</table>\n",
       "</div>"
      ],
      "text/plain": [
       "            timestamp    id  action\n",
       "group                              \n",
       "control          4264  3332       2\n",
       "experiment       3924  2996       2"
      ]
     },
     "execution_count": 13,
     "metadata": {},
     "output_type": "execute_result"
    }
   ],
   "source": [
    "# sizes of the control and experiment groups (i.e., the number of unique users in each group)\n",
    "\n",
    "home_act.groupby('group').nunique()"
   ]
  },
  {
   "cell_type": "markdown",
   "id": "27a66f6b",
   "metadata": {},
   "source": [
    "#### 2. How long was the experiment run for? \n",
    "\n",
    "***Hint:*** the records in this dataset are ordered by timestamp in increasing order"
   ]
  },
  {
   "cell_type": "code",
   "execution_count": 69,
   "id": "f2d53365",
   "metadata": {},
   "outputs": [
    {
     "name": "stdout",
     "output_type": "stream",
     "text": [
      "The duration of the experiment was: 3 months and 25 days.\n"
     ]
    }
   ],
   "source": [
    "# duration of this experiment\n",
    "\n",
    "from datetime import datetime\n",
    "\n",
    "duration = (datetime.strptime(home_act['timestamp'].max().split('.')[0], '%Y-%m-%d %H:%M:%S') - \n",
    "            datetime.strptime(home_act['timestamp'].min().split('.')[0], '%Y-%m-%d %H:%M:%S'))\n",
    "\n",
    "month, day = duration.days / 30, duration.days % 30\n",
    "\n",
    "\n",
    "print(f'The duration of the experiment was: {int(month)} months and {day} days.')"
   ]
  },
  {
   "cell_type": "markdown",
   "id": "e72612bf",
   "metadata": {},
   "source": [
    "#### 3. What action types are recorded in this dataset?\n",
    "\n",
    "(i.e., What are the unique values in the action column?)"
   ]
  },
  {
   "cell_type": "code",
   "execution_count": 36,
   "id": "7ff34a3d",
   "metadata": {},
   "outputs": [
    {
     "data": {
      "text/plain": [
       "(array(['view', 'click'], dtype=object),\n",
       " view     6328\n",
       " click    1860\n",
       " Name: action, dtype: int64)"
      ]
     },
     "execution_count": 36,
     "metadata": {},
     "output_type": "execute_result"
    }
   ],
   "source": [
    "# action types in this experiment\n",
    "\n",
    "home_act.action.unique(), home_act.action.value_counts()"
   ]
  },
  {
   "cell_type": "markdown",
   "id": "130e14f6",
   "metadata": {},
   "source": [
    "#### 4. Why would we use `click through rate` instead of `number of clicks` to compare the performances of control and experiment pages?"
   ]
  },
  {
   "cell_type": "markdown",
   "id": "cbdc1be4",
   "metadata": {},
   "source": [
    "***Answer:*** That is because, the number of users as a part of one group may be more than the number of users in the other group. So even if one of the groups have a greater proportion of people clicking on the page, the other group might dominate the numbers if the same group have more number of users than the former."
   ]
  },
  {
   "cell_type": "markdown",
   "id": "503f0b89",
   "metadata": {},
   "source": [
    "#### 5. Define the click through rate (CTR) for this experiment."
   ]
  },
  {
   "cell_type": "markdown",
   "id": "7c52f68a",
   "metadata": {},
   "source": [
    "***Answer:*** The Click Through Rate is the proportion of the number of unique users clicking on the page to that of the number of unique users visiting the page.\n",
    "\n",
    "$$ CTR = \\frac{N\\_{clickers}}{N\\_{visitors}} $$\n",
    "\n",
    "Where **$ N\\_{clickers} $** is the number of users clicking on the page;\n",
    "and, **$ N\\_{visitors} $** is the number of users visiting the page."
   ]
  },
  {
   "cell_type": "markdown",
   "id": "2fbbeda6",
   "metadata": {},
   "source": [
    "#### 6. What are the null and alternative hypotheses?\n",
    "\n",
    "***Use $CTR_{old}$ and $CTR_{new}$ in your hypotheses.***\n",
    "\n",
    "$$ H_0 \\longrightarrow CTR_{new} \\leq CTR_{old} $$\n",
    "$$ H_1 \\longrightarrow CTR_{new} \\gt CTR_{old}$$\n",
    "\n",
    "***Or alternatively:***\n",
    "\n",
    "$$ H_0 \\longrightarrow CTR_{new} - CTR_{old} \\leq 0  $$\n",
    "$$ H_1 \\longrightarrow CTR_{new} - CTR_{old} \\gt 0 $$"
   ]
  },
  {
   "cell_type": "markdown",
   "id": "642af7c5",
   "metadata": {},
   "source": [
    "#### 7. Based on the above hypotheses, figure out whether the new page should be launched or should they stick with the old page by using bootstrapping and p-value:"
   ]
  },
  {
   "cell_type": "code",
   "execution_count": 57,
   "id": "93e7c866",
   "metadata": {},
   "outputs": [
    {
     "data": {
      "text/plain": [
       "0.030034443684015644"
      ]
     },
     "execution_count": 57,
     "metadata": {},
     "output_type": "execute_result"
    }
   ],
   "source": [
    "# Find the observed difference in the CTR's from the entire sample\n",
    "\n",
    "control_df = home_act.query('group == \"control\"')\n",
    "exp_df = home_act.query('group == \"experiment\"')\n",
    "\n",
    "control_ctr = len(control_df.query('action == \"click\"').id.unique()) / len(control_df.query('action == \"view\"').id.unique())\n",
    "exp_ctr = len(exp_df.query('action == \"click\"').id.unique()) / len(exp_df.query('action == \"view\"').id.unique())\n",
    "\n",
    "obs_diff = exp_ctr - control_ctr\n",
    "\n",
    "obs_diff"
   ]
  },
  {
   "cell_type": "code",
   "execution_count": 62,
   "id": "42b5ec84",
   "metadata": {},
   "outputs": [
    {
     "data": {
      "text/plain": [
       "0.030169160906594904"
      ]
     },
     "execution_count": 62,
     "metadata": {},
     "output_type": "execute_result"
    }
   ],
   "source": [
    "# Use bootstrapping to create sampling distributions and simulate the difference over the sampling distribution\n",
    "\n",
    "samp_diffs = []\n",
    "\n",
    "for _ in range(10000):\n",
    "    bootsamp = home_act.sample(home_act.shape[0], replace = True)\n",
    "    samp_cont_df = bootsamp.query('group == \"control\"')\n",
    "    samp_expt_df = bootsamp.query('group == \"experiment\"')\n",
    "    samp_control_ctr = len(samp_cont_df.query('action == \"click\"').id.unique()) / len(samp_cont_df.query('action == \"view\"').id.unique())\n",
    "    samp_expt_ctr = len(samp_expt_df.query('action == \"click\"').id.unique()) / len(samp_expt_df.query('action == \"view\"').id.unique())\n",
    "    diffs = samp_expt_ctr - samp_control_ctr\n",
    "    samp_diffs.append(diffs)\n",
    "    \n",
    "samp_diffs_mean = np.mean(samp_diffs)\n",
    "samp_diffs_mean"
   ]
  },
  {
   "cell_type": "code",
   "execution_count": 63,
   "id": "a89025cb",
   "metadata": {},
   "outputs": [
    {
     "data": {
      "image/png": "[encoded data removed]",
      "text/plain": [
       "<Figure size 432x288 with 1 Axes>"
      ]
     },
     "metadata": {
      "needs_background": "light"
     },
     "output_type": "display_data"
    }
   ],
   "source": [
    "# Plot the samplting distribution of the difference in CTR's along with marking the mean difference in CTR's seen\n",
    "# from the bootsample dataset.\n",
    "\n",
    "plt.hist(samp_diffs);\n",
    "plt.axvline(x = samp_diffs_mean, color = 'r');"
   ]
  },
  {
   "cell_type": "code",
   "execution_count": 50,
   "id": "55bbc780",
   "metadata": {},
   "outputs": [],
   "source": [
    "# Observe the distribution under the 'Null' hypothesis based on a CTR diff of 0 and the spread same as that of the \n",
    "# bootstrapped diffs\n",
    "\n",
    "null_dist = np.random.normal(0, np.std(samp_diffs), len(samp_diffs))"
   ]
  },
  {
   "cell_type": "code",
   "execution_count": 64,
   "id": "fa5065c5",
   "metadata": {},
   "outputs": [
    {
     "data": {
      "image/png": "[encoded data removed]",
      "text/plain": [
       "<Figure size 432x288 with 1 Axes>"
      ]
     },
     "metadata": {
      "needs_background": "light"
     },
     "output_type": "display_data"
    }
   ],
   "source": [
    "# Plot the null distribution with the observed CTR diff (from the whole dataset) marked on the plot.\n",
    "\n",
    "plt.hist(null_dist);\n",
    "plt.axvline(x = samp_diffs_mean, color = 'r');"
   ]
  },
  {
   "cell_type": "markdown",
   "id": "10a348b0",
   "metadata": {},
   "source": [
    "***As per the above plot, we can very well see that the sampled mean diff in CTR's from the bootsample lies around the far tail of the distribution, so we can say that it is very unlikely that the statistic comes from the Null distribution or the Null Hypothesis. But we will further calculate the `p-value` to be sure....***"
   ]
  },
  {
   "cell_type": "code",
   "execution_count": 65,
   "id": "20a90e2a",
   "metadata": {},
   "outputs": [
    {
     "data": {
      "text/plain": [
       "0.0052"
      ]
     },
     "execution_count": 65,
     "metadata": {},
     "output_type": "execute_result"
    }
   ],
   "source": [
    "# Find the p-value to draw the conclusion\n",
    "\n",
    "p_val = (null_dist > obs_diff).mean()\n",
    "p_val"
   ]
  },
  {
   "cell_type": "markdown",
   "id": "e3acda5a",
   "metadata": {},
   "source": [
    "***So, as per the p-value above, it seems to be less than the `error rate` ($ \\alpha = 0.05 $), therefore we have ample evidence to reject the Null Hypothesis and confirming that the New Page is generating more CTR's or traffic than the Old Page.***"
   ]
  },
  {
   "cell_type": "code",
   "execution_count": null,
   "id": "76e8b8d6",
   "metadata": {},
   "outputs": [],
   "source": []
  }
 ],
 "metadata": {
  "kernelspec": {
   "display_name": "Python 3",
   "language": "python",
   "name": "python3"
  },
  "language_info": {
   "codemirror_mode": {
    "name": "ipython",
    "version": 3
   },
   "file_extension": ".py",
   "mimetype": "text/x-python",
   "name": "python",
   "nbconvert_exporter": "python",
   "pygments_lexer": "ipython3",
   "version": "3.8.10"
  }
 },
 "nbformat": 4,
 "nbformat_minor": 5
}
