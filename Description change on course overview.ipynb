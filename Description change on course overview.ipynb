{
 "cells": [
  {
   "cell_type": "markdown",
   "id": "6c5617f1",
   "metadata": {},
   "source": [
    "### Here we will simulate the A/B tests over a new description on a course overview page of an online EdTech company, to dedicate larger portions to connecting concepts to career skills and less details on each concept."
   ]
  },
  {
   "cell_type": "markdown",
   "id": "4dc38fad",
   "metadata": {},
   "source": [
    "***This test will deal with multiple metrics to analyze -- `Enrollment Rate`, `Avg Reading time`, `Avg. Classroom time` and `Completion Rate`.***"
   ]
  },
  {
   "cell_type": "markdown",
   "id": "58505556",
   "metadata": {},
   "source": [
    "Firstly, we will analyze each of them separately and then combine all to draw the conclusions."
   ]
  },
  {
   "cell_type": "markdown",
   "id": "f5a8e1b3",
   "metadata": {},
   "source": [
    "#### 1. Enrollment Rate"
   ]
  },
  {
   "cell_type": "code",
   "execution_count": 1,
   "id": "8fb0467a",
   "metadata": {},
   "outputs": [
    {
     "data": {
      "text/html": [
       "<div>\n",
       "<style scoped>\n",
       "    .dataframe tbody tr th:only-of-type {\n",
       "        vertical-align: middle;\n",
       "    }\n",
       "\n",
       "    .dataframe tbody tr th {\n",
       "        vertical-align: top;\n",
       "    }\n",
       "\n",
       "    .dataframe thead th {\n",
       "        text-align: right;\n",
       "    }\n",
       "</style>\n",
       "<table border=\"1\" class=\"dataframe\">\n",
       "  <thead>\n",
       "    <tr style=\"text-align: right;\">\n",
       "      <th></th>\n",
       "      <th>timestamp</th>\n",
       "      <th>id</th>\n",
       "      <th>group</th>\n",
       "      <th>action</th>\n",
       "      <th>duration</th>\n",
       "    </tr>\n",
       "  </thead>\n",
       "  <tbody>\n",
       "    <tr>\n",
       "      <th>0</th>\n",
       "      <td>2016-09-24 17:14:52.012145</td>\n",
       "      <td>261869</td>\n",
       "      <td>experiment</td>\n",
       "      <td>view</td>\n",
       "      <td>130.545004</td>\n",
       "    </tr>\n",
       "    <tr>\n",
       "      <th>1</th>\n",
       "      <td>2016-09-24 18:45:09.645857</td>\n",
       "      <td>226546</td>\n",
       "      <td>experiment</td>\n",
       "      <td>view</td>\n",
       "      <td>159.862440</td>\n",
       "    </tr>\n",
       "    <tr>\n",
       "      <th>2</th>\n",
       "      <td>2016-09-24 19:16:21.002533</td>\n",
       "      <td>286353</td>\n",
       "      <td>experiment</td>\n",
       "      <td>view</td>\n",
       "      <td>79.349315</td>\n",
       "    </tr>\n",
       "    <tr>\n",
       "      <th>3</th>\n",
       "      <td>2016-09-24 19:43:06.927785</td>\n",
       "      <td>842279</td>\n",
       "      <td>experiment</td>\n",
       "      <td>view</td>\n",
       "      <td>55.536126</td>\n",
       "    </tr>\n",
       "    <tr>\n",
       "      <th>4</th>\n",
       "      <td>2016-09-24 21:08:22.790333</td>\n",
       "      <td>781883</td>\n",
       "      <td>experiment</td>\n",
       "      <td>view</td>\n",
       "      <td>204.322437</td>\n",
       "    </tr>\n",
       "  </tbody>\n",
       "</table>\n",
       "</div>"
      ],
      "text/plain": [
       "                    timestamp      id       group action    duration\n",
       "0  2016-09-24 17:14:52.012145  261869  experiment   view  130.545004\n",
       "1  2016-09-24 18:45:09.645857  226546  experiment   view  159.862440\n",
       "2  2016-09-24 19:16:21.002533  286353  experiment   view   79.349315\n",
       "3  2016-09-24 19:43:06.927785  842279  experiment   view   55.536126\n",
       "4  2016-09-24 21:08:22.790333  781883  experiment   view  204.322437"
      ]
     },
     "execution_count": 1,
     "metadata": {},
     "output_type": "execute_result"
    }
   ],
   "source": [
    "# Import necessary libraries and read the dataset\n",
    "\n",
    "import numpy as np\n",
    "import pandas as pd\n",
    "import matplotlib.pyplot as plt\n",
    "\n",
    "%matplotlib inline\n",
    "\n",
    "np.random.seed(42)\n",
    "\n",
    "course_page = pd.read_csv('./data/course_page_actions.csv')\n",
    "course_page.head()"
   ]
  },
  {
   "cell_type": "code",
   "execution_count": 2,
   "id": "e6912218",
   "metadata": {},
   "outputs": [
    {
     "data": {
      "text/plain": [
       "0.2364438839848676"
      ]
     },
     "execution_count": 2,
     "metadata": {},
     "output_type": "execute_result"
    }
   ],
   "source": [
    "# Get dataframe with all records from control group\n",
    "control_df = course_page.query('group == \"control\"')\n",
    "\n",
    "# Compute click through rate for control group\n",
    "control_ctr = control_df.query('action == \"enroll\"').id.nunique() / control_df.query('action == \"view\"').id.nunique()\n",
    "\n",
    "# Display click through rate\n",
    "control_ctr"
   ]
  },
  {
   "cell_type": "code",
   "execution_count": 3,
   "id": "65db6d53",
   "metadata": {},
   "outputs": [
    {
     "data": {
      "text/plain": [
       "0.2668693009118541"
      ]
     },
     "execution_count": 3,
     "metadata": {},
     "output_type": "execute_result"
    }
   ],
   "source": [
    "# Get dataframe with all records from experiment group\n",
    "experiment_df = course_page.query('group == \"experiment\"')\n",
    "\n",
    "# Compute click through rate for experiment group\n",
    "experiment_ctr = experiment_df.query('action == \"enroll\"').id.nunique() / experiment_df.query('action == \"view\"').id.nunique()\n",
    "\n",
    "# Display click through rate\n",
    "experiment_ctr"
   ]
  },
  {
   "cell_type": "code",
   "execution_count": 4,
   "id": "66cd5ac6",
   "metadata": {},
   "outputs": [
    {
     "data": {
      "text/plain": [
       "0.030425416926986526"
      ]
     },
     "execution_count": 4,
     "metadata": {},
     "output_type": "execute_result"
    }
   ],
   "source": [
    "# Compute the observed difference in click through rates\n",
    "obs_diff = experiment_ctr - control_ctr\n",
    "\n",
    "# Display observed difference\n",
    "obs_diff"
   ]
  },
  {
   "cell_type": "code",
   "execution_count": 5,
   "id": "c98bb3e5",
   "metadata": {},
   "outputs": [
    {
     "data": {
      "text/plain": [
       "0.030160746635366387"
      ]
     },
     "execution_count": 5,
     "metadata": {},
     "output_type": "execute_result"
    }
   ],
   "source": [
    "# Now create a sampling distribution of the difference in proportions\n",
    "# with bootstrapping\n",
    "\n",
    "samp_diffs = []\n",
    "\n",
    "for _ in range(10000):\n",
    "    samp_df = course_page.sample(course_page.shape[0], replace = True)\n",
    "    samp_control_df = samp_df.query('group == \"control\"')\n",
    "    samp_control_ctr = samp_control_df.query('action == \"enroll\"').id.nunique() / samp_control_df.query('action == \"view\"').id.nunique()\n",
    "    samp_exp_df = samp_df.query('group == \"experiment\"')\n",
    "    samp_exp_ctr = samp_exp_df.query('action == \"enroll\"').id.nunique() / samp_exp_df.query('action == \"view\"').id.nunique()\n",
    "    samp_diffs.append(samp_exp_ctr - samp_control_ctr)\n",
    "    \n",
    "samp_diff_mean = np.mean(samp_diffs)\n",
    "samp_diff_mean"
   ]
  },
  {
   "cell_type": "code",
   "execution_count": 7,
   "id": "40b9ca5b",
   "metadata": {},
   "outputs": [
    {
     "data": {
      "image/png": "[encoded data removed]",
      "text/plain": [
       "<Figure size 432x288 with 1 Axes>"
      ]
     },
     "metadata": {
      "needs_background": "light"
     },
     "output_type": "display_data"
    }
   ],
   "source": [
    "# Plot the sampling distribution and mark the observed difference with a line to cross check whether sampling \n",
    "# distribution has got the sample difference mean closer to the observed difference\n",
    "\n",
    "plt.hist(samp_diffs);\n",
    "plt.axvline(x = obs_diff, color = 'r');"
   ]
  },
  {
   "cell_type": "markdown",
   "id": "8b0bdee4",
   "metadata": {},
   "source": [
    "Now simulate the Null hypothesis based on a centre of 0 and a spread corresponding to the sampling distribution.\n",
    "\n",
    "The Null Hypothesis is the same as that of the [New webpage design](http://localhost:8888/notebooks/Python%20Simulations/Case%20Study%20-%20A_B%20Tests/New%20webpage%20design.ipynb)"
   ]
  },
  {
   "cell_type": "code",
   "execution_count": 9,
   "id": "110eba99",
   "metadata": {},
   "outputs": [
    {
     "data": {
      "image/png": "[encoded data removed]",
      "text/plain": [
       "<Figure size 432x288 with 1 Axes>"
      ]
     },
     "metadata": {
      "needs_background": "light"
     },
     "output_type": "display_data"
    }
   ],
   "source": [
    "# Simulate distribution under the null hypothesis\n",
    "\n",
    "null_dist = np.random.normal(0, np.std(samp_diffs), len(samp_diffs))\n",
    "\n",
    "# Plot the null distribution and include a marker for the observed difference or \n",
    "# mean difference as per sampling distribution (They both are nearly the same though, due to the \"Law of Large Numbers\")\n",
    "\n",
    "plt.hist(null_dist);\n",
    "plt.axvline(x = obs_diff, color = 'r');"
   ]
  },
  {
   "cell_type": "code",
   "execution_count": 10,
   "id": "1f916121",
   "metadata": {},
   "outputs": [
    {
     "data": {
      "text/plain": [
       "0.0218"
      ]
     },
     "execution_count": 10,
     "metadata": {},
     "output_type": "execute_result"
    }
   ],
   "source": [
    "# Compute p-value\n",
    "\n",
    "p_val = (null_dist > obs_diff).mean()\n",
    "p_val"
   ]
  },
  {
   "cell_type": "markdown",
   "id": "918e0057",
   "metadata": {},
   "source": [
    "#### 2. Average Classroom time"
   ]
  },
  {
   "cell_type": "markdown",
   "id": "da4d7f87",
   "metadata": {},
   "source": [
    "Here we will test whether the Average classroom time spent for experiment is more than that of the Control"
   ]
  },
  {
   "cell_type": "code",
   "execution_count": 11,
   "id": "f7525fbc",
   "metadata": {},
   "outputs": [
    {
     "data": {
      "text/html": [
       "<div>\n",
       "<style scoped>\n",
       "    .dataframe tbody tr th:only-of-type {\n",
       "        vertical-align: middle;\n",
       "    }\n",
       "\n",
       "    .dataframe tbody tr th {\n",
       "        vertical-align: top;\n",
       "    }\n",
       "\n",
       "    .dataframe thead th {\n",
       "        text-align: right;\n",
       "    }\n",
       "</style>\n",
       "<table border=\"1\" class=\"dataframe\">\n",
       "  <thead>\n",
       "    <tr style=\"text-align: right;\">\n",
       "      <th></th>\n",
       "      <th>timestamp</th>\n",
       "      <th>id</th>\n",
       "      <th>group</th>\n",
       "      <th>total_days</th>\n",
       "      <th>completed</th>\n",
       "    </tr>\n",
       "  </thead>\n",
       "  <tbody>\n",
       "    <tr>\n",
       "      <th>0</th>\n",
       "      <td>2015-08-10 17:06:01.032740</td>\n",
       "      <td>610019</td>\n",
       "      <td>experiment</td>\n",
       "      <td>97</td>\n",
       "      <td>True</td>\n",
       "    </tr>\n",
       "    <tr>\n",
       "      <th>1</th>\n",
       "      <td>2015-08-10 17:15:28.950975</td>\n",
       "      <td>690224</td>\n",
       "      <td>control</td>\n",
       "      <td>75</td>\n",
       "      <td>False</td>\n",
       "    </tr>\n",
       "    <tr>\n",
       "      <th>2</th>\n",
       "      <td>2015-08-10 17:34:40.920384</td>\n",
       "      <td>564994</td>\n",
       "      <td>experiment</td>\n",
       "      <td>128</td>\n",
       "      <td>True</td>\n",
       "    </tr>\n",
       "    <tr>\n",
       "      <th>3</th>\n",
       "      <td>2015-08-10 17:50:39.847374</td>\n",
       "      <td>849588</td>\n",
       "      <td>experiment</td>\n",
       "      <td>66</td>\n",
       "      <td>False</td>\n",
       "    </tr>\n",
       "    <tr>\n",
       "      <th>4</th>\n",
       "      <td>2015-08-10 19:10:40.650599</td>\n",
       "      <td>849826</td>\n",
       "      <td>experiment</td>\n",
       "      <td>34</td>\n",
       "      <td>False</td>\n",
       "    </tr>\n",
       "  </tbody>\n",
       "</table>\n",
       "</div>"
      ],
      "text/plain": [
       "                    timestamp      id       group  total_days  completed\n",
       "0  2015-08-10 17:06:01.032740  610019  experiment          97       True\n",
       "1  2015-08-10 17:15:28.950975  690224     control          75      False\n",
       "2  2015-08-10 17:34:40.920384  564994  experiment         128       True\n",
       "3  2015-08-10 17:50:39.847374  849588  experiment          66      False\n",
       "4  2015-08-10 19:10:40.650599  849826  experiment          34      False"
      ]
     },
     "execution_count": 11,
     "metadata": {},
     "output_type": "execute_result"
    }
   ],
   "source": [
    "# Necessary libraries have been imported already, read the csv dataset here\n",
    "\n",
    "class_time = pd.read_csv('./data/classroom_actions.csv')\n",
    "class_time.head()"
   ]
  },
  {
   "cell_type": "code",
   "execution_count": 12,
   "id": "ff007028",
   "metadata": {},
   "outputs": [
    {
     "data": {
      "text/plain": [
       "(73.36899038461539, 74.6715935334873)"
      ]
     },
     "execution_count": 12,
     "metadata": {},
     "output_type": "execute_result"
    }
   ],
   "source": [
    "# The total_days represents the total amount of time\n",
    "# each student has spent in classroom.\n",
    "# get the average classroom time for control group\n",
    "control_mean = class_time.query('group == \"control\"').total_days.mean()\n",
    "\n",
    "# get the average classroom time for experiment group\n",
    "experiment_mean = class_time.query('group == \"experiment\"').total_days.mean()\n",
    "\n",
    "# display average classroom time for each group\n",
    "control_mean, experiment_mean"
   ]
  },
  {
   "cell_type": "code",
   "execution_count": 13,
   "id": "e386d3f8",
   "metadata": {},
   "outputs": [
    {
     "data": {
      "text/plain": [
       "1.3026031488719099"
      ]
     },
     "execution_count": 13,
     "metadata": {},
     "output_type": "execute_result"
    }
   ],
   "source": [
    "# compute observed difference in classroom time\n",
    "obs_diff = experiment_mean - control_mean\n",
    "\n",
    "# display observed difference\n",
    "obs_diff"
   ]
  },
  {
   "cell_type": "code",
   "execution_count": 14,
   "id": "09dcd066",
   "metadata": {},
   "outputs": [
    {
     "data": {
      "text/plain": [
       "1.2951203373382187"
      ]
     },
     "execution_count": 14,
     "metadata": {},
     "output_type": "execute_result"
    }
   ],
   "source": [
    "# create sampling distribution of difference in average classroom times\n",
    "# with boostrapping\n",
    "\n",
    "samp_diffs = []\n",
    "for _ in range(10000):\n",
    "    samp_class_time = class_time.sample(class_time.shape[0], replace = True)\n",
    "    samp_control_mean = samp_class_time.query('group == \"control\"').total_days.mean()\n",
    "    samp_expt_mean = samp_class_time.query('group == \"experiment\"').total_days.mean()\n",
    "    samp_diffs.append(samp_expt_mean - samp_control_mean)\n",
    "    \n",
    "samp_diffs_mean = np.mean(samp_diffs)\n",
    "samp_diffs_mean"
   ]
  },
  {
   "cell_type": "code",
   "execution_count": 16,
   "id": "6f5d6ef0",
   "metadata": {},
   "outputs": [
    {
     "data": {
      "image/png": "[encoded data removed]",
      "text/plain": [
       "<Figure size 432x288 with 1 Axes>"
      ]
     },
     "metadata": {
      "needs_background": "light"
     },
     "output_type": "display_data"
    }
   ],
   "source": [
    "# plot sampling distribution and inlude a line marking the sampling dist mean\n",
    "\n",
    "plt.hist(samp_diffs);\n",
    "plt.axvline(x = samp_diffs_mean, color = 'r');"
   ]
  },
  {
   "cell_type": "code",
   "execution_count": 17,
   "id": "b014ebe9",
   "metadata": {},
   "outputs": [
    {
     "data": {
      "image/png": "[encoded data removed]",
      "text/plain": [
       "<Figure size 432x288 with 1 Axes>"
      ]
     },
     "metadata": {
      "needs_background": "light"
     },
     "output_type": "display_data"
    }
   ],
   "source": [
    "# simulate distribution under the null hypothesis and plot the same along with a marker for the observed diff.\n",
    "\n",
    "null_dist_class = np.random.normal(0, np.std(samp_diffs), len(samp_diffs))\n",
    "\n",
    "plt.hist(null_dist_class);\n",
    "plt.axvline(x = obs_diff, color = 'r');"
   ]
  },
  {
   "cell_type": "code",
   "execution_count": 18,
   "id": "fd94ccb0",
   "metadata": {},
   "outputs": [
    {
     "data": {
      "text/plain": [
       "0.0378"
      ]
     },
     "execution_count": 18,
     "metadata": {},
     "output_type": "execute_result"
    }
   ],
   "source": [
    "# compute the p-value\n",
    "\n",
    "p_value = (null_dist_class > obs_diff).mean()\n",
    "p_value"
   ]
  },
  {
   "cell_type": "markdown",
   "id": "e4407c3e",
   "metadata": {},
   "source": [
    "#### 3. Completion Rate"
   ]
  },
  {
   "cell_type": "markdown",
   "id": "694207b5",
   "metadata": {},
   "source": [
    "Here we will test whether the Completion rate for the experiment is more than that of the control"
   ]
  },
  {
   "cell_type": "code",
   "execution_count": 19,
   "id": "cbeadf8a",
   "metadata": {},
   "outputs": [
    {
     "data": {
      "text/html": [
       "<div>\n",
       "<style scoped>\n",
       "    .dataframe tbody tr th:only-of-type {\n",
       "        vertical-align: middle;\n",
       "    }\n",
       "\n",
       "    .dataframe tbody tr th {\n",
       "        vertical-align: top;\n",
       "    }\n",
       "\n",
       "    .dataframe thead th {\n",
       "        text-align: right;\n",
       "    }\n",
       "</style>\n",
       "<table border=\"1\" class=\"dataframe\">\n",
       "  <thead>\n",
       "    <tr style=\"text-align: right;\">\n",
       "      <th></th>\n",
       "      <th>timestamp</th>\n",
       "      <th>id</th>\n",
       "      <th>group</th>\n",
       "      <th>total_days</th>\n",
       "      <th>completed</th>\n",
       "    </tr>\n",
       "  </thead>\n",
       "  <tbody>\n",
       "    <tr>\n",
       "      <th>0</th>\n",
       "      <td>2015-08-10 17:06:01.032740</td>\n",
       "      <td>610019</td>\n",
       "      <td>experiment</td>\n",
       "      <td>97</td>\n",
       "      <td>True</td>\n",
       "    </tr>\n",
       "    <tr>\n",
       "      <th>1</th>\n",
       "      <td>2015-08-10 17:15:28.950975</td>\n",
       "      <td>690224</td>\n",
       "      <td>control</td>\n",
       "      <td>75</td>\n",
       "      <td>False</td>\n",
       "    </tr>\n",
       "    <tr>\n",
       "      <th>2</th>\n",
       "      <td>2015-08-10 17:34:40.920384</td>\n",
       "      <td>564994</td>\n",
       "      <td>experiment</td>\n",
       "      <td>128</td>\n",
       "      <td>True</td>\n",
       "    </tr>\n",
       "    <tr>\n",
       "      <th>3</th>\n",
       "      <td>2015-08-10 17:50:39.847374</td>\n",
       "      <td>849588</td>\n",
       "      <td>experiment</td>\n",
       "      <td>66</td>\n",
       "      <td>False</td>\n",
       "    </tr>\n",
       "    <tr>\n",
       "      <th>4</th>\n",
       "      <td>2015-08-10 19:10:40.650599</td>\n",
       "      <td>849826</td>\n",
       "      <td>experiment</td>\n",
       "      <td>34</td>\n",
       "      <td>False</td>\n",
       "    </tr>\n",
       "  </tbody>\n",
       "</table>\n",
       "</div>"
      ],
      "text/plain": [
       "                    timestamp      id       group  total_days  completed\n",
       "0  2015-08-10 17:06:01.032740  610019  experiment          97       True\n",
       "1  2015-08-10 17:15:28.950975  690224     control          75      False\n",
       "2  2015-08-10 17:34:40.920384  564994  experiment         128       True\n",
       "3  2015-08-10 17:50:39.847374  849588  experiment          66      False\n",
       "4  2015-08-10 19:10:40.650599  849826  experiment          34      False"
      ]
     },
     "execution_count": 19,
     "metadata": {},
     "output_type": "execute_result"
    }
   ],
   "source": [
    "# Necessary libraries have been imported already, read the csv dataset here\n",
    "\n",
    "comp_rate = pd.read_csv('./data/classroom_actions.csv')\n",
    "comp_rate.head()"
   ]
  },
  {
   "cell_type": "code",
   "execution_count": 33,
   "id": "50a32295",
   "metadata": {},
   "outputs": [
    {
     "data": {
      "text/plain": [
       "0.3719951923076923"
      ]
     },
     "execution_count": 33,
     "metadata": {},
     "output_type": "execute_result"
    }
   ],
   "source": [
    "# Create dataframe with all control records\n",
    "control_df = comp_rate.query('group == \"control\"')\n",
    "\n",
    "# Compute completion rate\n",
    "control_ctr = control_df.completed.mean()\n",
    "\n",
    "# Display completion rate\n",
    "control_ctr"
   ]
  },
  {
   "cell_type": "code",
   "execution_count": 34,
   "id": "ee4aadbf",
   "metadata": {},
   "outputs": [
    {
     "data": {
      "text/plain": [
       "0.3935334872979215"
      ]
     },
     "execution_count": 34,
     "metadata": {},
     "output_type": "execute_result"
    }
   ],
   "source": [
    "# Create dataframe with all experiment records\n",
    "experiment_df = comp_rate.query('group == \"experiment\"')\n",
    "\n",
    "# Compute completion rate\n",
    "experiment_ctr = experiment_df.completed.mean()\n",
    "\n",
    "# Display completion rate\n",
    "experiment_ctr"
   ]
  },
  {
   "cell_type": "code",
   "execution_count": 35,
   "id": "04296ad4",
   "metadata": {},
   "outputs": [
    {
     "data": {
      "text/plain": [
       "0.02153829499022919"
      ]
     },
     "execution_count": 35,
     "metadata": {},
     "output_type": "execute_result"
    }
   ],
   "source": [
    "# Compute observed difference in completion rates\n",
    "obs_diff = experiment_ctr - control_ctr\n",
    "\n",
    "# Display observed difference in completion rates\n",
    "obs_diff"
   ]
  },
  {
   "cell_type": "code",
   "execution_count": 23,
   "id": "b2626c19",
   "metadata": {},
   "outputs": [
    {
     "data": {
      "text/plain": [
       "0.021648228284006695"
      ]
     },
     "execution_count": 23,
     "metadata": {},
     "output_type": "execute_result"
    }
   ],
   "source": [
    "# Create sampling distribution for difference in completion rates\n",
    "# with boostrapping\n",
    "\n",
    "comp_rate_diffs = []\n",
    "\n",
    "for _ in range(10000):\n",
    "    samp_comp_rate = comp_rate.sample(comp_rate.shape[0], replace = True)\n",
    "    samp_cont_ctr = samp_comp_rate.query('group == \"control\"').completed.mean()\n",
    "    samp_expt_ctr = samp_comp_rate.query('group == \"experiment\"').completed.mean()\n",
    "    comp_rate_diffs.append(samp_expt_ctr - samp_cont_ctr)\n",
    "    \n",
    "comp_rate_diffs_mean = np.mean(comp_rate_diffs)\n",
    "comp_rate_diffs_mean"
   ]
  },
  {
   "cell_type": "code",
   "execution_count": 37,
   "id": "227daac0",
   "metadata": {},
   "outputs": [
    {
     "data": {
      "image/png": "[encoded data removed]",
      "text/plain": [
       "<Figure size 432x288 with 1 Axes>"
      ]
     },
     "metadata": {
      "needs_background": "light"
     },
     "output_type": "display_data"
    }
   ],
   "source": [
    "# plot the sampling distribution along with a line marker for the sample diff mean\n",
    "\n",
    "plt.hist(comp_rate_diffs);\n",
    "plt.axvline(x = comp_rate_diffs_mean, color = 'r');"
   ]
  },
  {
   "cell_type": "code",
   "execution_count": 38,
   "id": "b9bd0f2a",
   "metadata": {},
   "outputs": [
    {
     "data": {
      "image/png": "[encoded data removed]",
      "text/plain": [
       "<Figure size 432x288 with 1 Axes>"
      ]
     },
     "metadata": {
      "needs_background": "light"
     },
     "output_type": "display_data"
    }
   ],
   "source": [
    "# Simulate the distribution under the null hypothesis and plot the same with a line marking the observed diff or\n",
    "# sampling dist diff mean (since they both a pretty close due to the Law of Large Numbers)\n",
    "\n",
    "null_vals = np.random.normal(0, np.std(comp_rate_diffs), len(comp_rate_diffs))\n",
    "\n",
    "plt.hist(null_vals);\n",
    "plt.axvline(x = obs_diff, color = 'r');"
   ]
  },
  {
   "cell_type": "code",
   "execution_count": 39,
   "id": "f7700435",
   "metadata": {},
   "outputs": [
    {
     "data": {
      "text/plain": [
       "0.0838"
      ]
     },
     "execution_count": 39,
     "metadata": {},
     "output_type": "execute_result"
    }
   ],
   "source": [
    "# compute the p-value\n",
    "\n",
    "p_value = (null_vals > obs_diff).mean()\n",
    "p_value"
   ]
  },
  {
   "cell_type": "code",
   "execution_count": null,
   "id": "93b3433d",
   "metadata": {},
   "outputs": [],
   "source": []
  }
 ],
 "metadata": {
  "kernelspec": {
   "display_name": "Python 3",
   "language": "python",
   "name": "python3"
  },
  "language_info": {
   "codemirror_mode": {
    "name": "ipython",
    "version": 3
   },
   "file_extension": ".py",
   "mimetype": "text/x-python",
   "name": "python",
   "nbconvert_exporter": "python",
   "pygments_lexer": "ipython3",
   "version": "3.8.10"
  }
 },
 "nbformat": 4,
 "nbformat_minor": 5
}
